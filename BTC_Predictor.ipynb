{
  "nbformat": 4,
  "nbformat_minor": 0,
  "metadata": {
    "colab": {
      "name": "BTC_Predictor.ipynb",
      "provenance": []
    },
    "kernelspec": {
      "name": "python3",
      "display_name": "Python 3"
    }
  },
  "cells": [
    {
      "cell_type": "markdown",
      "metadata": {
        "id": "whkNkRFdT8tK"
      },
      "source": [
        "Predictive modeling for BTC closing price (We'll explore both a multiple linear regression and a logistic linear regression model)"
      ]
    },
    {
      "cell_type": "code",
      "metadata": {
        "colab": {
          "base_uri": "https://localhost:8080/"
        },
        "id": "0QVIMXlsE2uz",
        "outputId": "e52b5ed5-01c0-41e4-d17a-d4c05e20a306"
      },
      "source": [
        "%tensorflow_version 2.x\n",
        "import tensorflow as tf\n",
        "import numpy as np\n",
        "import pandas as pd\n",
        "import matplotlib.pyplot as plt\n",
        "from sklearn import linear_model\n",
        "%matplotlib inline\n",
        "import keras\n",
        "print(tf.__version__)"
      ],
      "execution_count": 1,
      "outputs": [
        {
          "output_type": "stream",
          "text": [
            "2.4.1\n"
          ],
          "name": "stdout"
        }
      ]
    },
    {
      "cell_type": "markdown",
      "metadata": {
        "id": "5acaK6Xsc4xJ"
      },
      "source": [
        "Data obtained from Yahoo Finance (https://finance.yahoo.com/quote/BTC-USD/history?p=BTC-USD)"
      ]
    },
    {
      "cell_type": "code",
      "metadata": {
        "colab": {
          "base_uri": "https://localhost:8080/",
          "height": 142
        },
        "id": "5oepnPQLFIox",
        "outputId": "51682e02-cd4a-45f9-ec5c-308f363d1c85"
      },
      "source": [
        "df = pd.read_csv(\"BTC-USD.csv\")\n",
        "df.head(3)"
      ],
      "execution_count": 7,
      "outputs": [
        {
          "output_type": "execute_result",
          "data": {
            "text/html": [
              "<div>\n",
              "<style scoped>\n",
              "    .dataframe tbody tr th:only-of-type {\n",
              "        vertical-align: middle;\n",
              "    }\n",
              "\n",
              "    .dataframe tbody tr th {\n",
              "        vertical-align: top;\n",
              "    }\n",
              "\n",
              "    .dataframe thead th {\n",
              "        text-align: right;\n",
              "    }\n",
              "</style>\n",
              "<table border=\"1\" class=\"dataframe\">\n",
              "  <thead>\n",
              "    <tr style=\"text-align: right;\">\n",
              "      <th></th>\n",
              "      <th>Date</th>\n",
              "      <th>Open</th>\n",
              "      <th>High</th>\n",
              "      <th>Low</th>\n",
              "      <th>Close</th>\n",
              "      <th>Adj Close</th>\n",
              "      <th>Volume</th>\n",
              "      <th>ClosedHigherThanOpen</th>\n",
              "      <th>CTHO_Label</th>\n",
              "    </tr>\n",
              "  </thead>\n",
              "  <tbody>\n",
              "    <tr>\n",
              "      <th>0</th>\n",
              "      <td>2/2/2021</td>\n",
              "      <td>35025</td>\n",
              "      <td>35858</td>\n",
              "      <td>33556</td>\n",
              "      <td>35641</td>\n",
              "      <td>35641</td>\n",
              "      <td>62920052736</td>\n",
              "      <td>Yes</td>\n",
              "      <td>1</td>\n",
              "    </tr>\n",
              "    <tr>\n",
              "      <th>1</th>\n",
              "      <td>2/1/2021</td>\n",
              "      <td>33115</td>\n",
              "      <td>34638</td>\n",
              "      <td>32384</td>\n",
              "      <td>33537</td>\n",
              "      <td>33537</td>\n",
              "      <td>61400400660</td>\n",
              "      <td>Yes</td>\n",
              "      <td>1</td>\n",
              "    </tr>\n",
              "    <tr>\n",
              "      <th>2</th>\n",
              "      <td>1/31/2021</td>\n",
              "      <td>34271</td>\n",
              "      <td>34288</td>\n",
              "      <td>32270</td>\n",
              "      <td>33114</td>\n",
              "      <td>33114</td>\n",
              "      <td>52754542671</td>\n",
              "      <td>No</td>\n",
              "      <td>0</td>\n",
              "    </tr>\n",
              "  </tbody>\n",
              "</table>\n",
              "</div>"
            ],
            "text/plain": [
              "        Date   Open    High   ...      Volume   ClosedHigherThanOpen   CTHO_Label \n",
              "0   2/2/2021   35025   35858  ...  62920052736                   Yes             1\n",
              "1   2/1/2021   33115   34638  ...  61400400660                   Yes             1\n",
              "2  1/31/2021   34271   34288  ...  52754542671                    No             0\n",
              "\n",
              "[3 rows x 9 columns]"
            ]
          },
          "metadata": {
            "tags": []
          },
          "execution_count": 7
        }
      ]
    },
    {
      "cell_type": "code",
      "metadata": {
        "colab": {
          "base_uri": "https://localhost:8080/"
        },
        "id": "OvX_HvHwFeu5",
        "outputId": "18a72d69-03be-412b-bbc0-ad6bbe582815"
      },
      "source": [
        "df.columns"
      ],
      "execution_count": 8,
      "outputs": [
        {
          "output_type": "execute_result",
          "data": {
            "text/plain": [
              "Index(['Date', ' Open ', ' High ', ' Low ', ' Close ', ' Adj Close ',\n",
              "       ' Volume ', 'ClosedHigherThanOpen', ' CTHO_Label '],\n",
              "      dtype='object')"
            ]
          },
          "metadata": {
            "tags": []
          },
          "execution_count": 8
        }
      ]
    },
    {
      "cell_type": "code",
      "metadata": {
        "id": "9shwAL_PdXZZ"
      },
      "source": [
        "Set the Close price as our dependent variable (y), Independent variables (X) = (Open, High, Low). Note for BTC, Close price is pretty much same as Adjusted close price"
      ],
      "execution_count": null,
      "outputs": []
    },
    {
      "cell_type": "code",
      "metadata": {
        "id": "czrT2lMVFoU-"
      },
      "source": [
        "X = df[[' Open ', ' High ', ' Low ' ]]\n",
        "y = df[' Adj Close ']"
      ],
      "execution_count": 9,
      "outputs": []
    },
    {
      "cell_type": "markdown",
      "metadata": {
        "id": "H-tNBNLhebGP"
      },
      "source": [
        "Multiple Linear Regression to predict BTC closing price"
      ]
    },
    {
      "cell_type": "code",
      "metadata": {
        "colab": {
          "base_uri": "https://localhost:8080/"
        },
        "id": "CuNl-IA1Gs_r",
        "outputId": "4fab11cd-00dc-49c1-9624-706359b3d1ff"
      },
      "source": [
        "reg_model = linear_model.LinearRegression()\n",
        "reg_model.fit(X, y)"
      ],
      "execution_count": 10,
      "outputs": [
        {
          "output_type": "execute_result",
          "data": {
            "text/plain": [
              "LinearRegression(copy_X=True, fit_intercept=True, n_jobs=None, normalize=False)"
            ]
          },
          "metadata": {
            "tags": []
          },
          "execution_count": 10
        }
      ]
    },
    {
      "cell_type": "code",
      "metadata": {
        "colab": {
          "base_uri": "https://localhost:8080/"
        },
        "id": "o_Azz8mTMAHy",
        "outputId": "ebec43f5-711f-4108-a73c-db57f90b68a4"
      },
      "source": [
        "reg_model.coef_"
      ],
      "execution_count": 11,
      "outputs": [
        {
          "output_type": "execute_result",
          "data": {
            "text/plain": [
              "array([-0.34669217,  0.77447896,  0.57469282])"
            ]
          },
          "metadata": {
            "tags": []
          },
          "execution_count": 11
        }
      ]
    },
    {
      "cell_type": "code",
      "metadata": {
        "colab": {
          "base_uri": "https://localhost:8080/"
        },
        "id": "4gabEW3RMKTp",
        "outputId": "4aa0d72d-618a-4285-a2b7-047d12aab4a1"
      },
      "source": [
        "reg_model.intercept_"
      ],
      "execution_count": 12,
      "outputs": [
        {
          "output_type": "execute_result",
          "data": {
            "text/plain": [
              "-41.83925612980056"
            ]
          },
          "metadata": {
            "tags": []
          },
          "execution_count": 12
        }
      ]
    },
    {
      "cell_type": "code",
      "metadata": {
        "colab": {
          "base_uri": "https://localhost:8080/"
        },
        "id": "vy6dOrrGMP-J",
        "outputId": "e0a94acc-095e-442c-be6c-d72057041c6b"
      },
      "source": [
        "reg_model.predict([[37174, 37409, 35448]])"
      ],
      "execution_count": 13,
      "outputs": [
        {
          "output_type": "execute_result",
          "data": {
            "text/plain": [
              "array([36414.42036689])"
            ]
          },
          "metadata": {
            "tags": []
          },
          "execution_count": 13
        }
      ]
    },
    {
      "cell_type": "markdown",
      "metadata": {
        "id": "gkndVMp_OagA"
      },
      "source": [
        "Logistic Regression to predict if Closing BTC Price is Higher than Open price (1 for \"YES\", 0 for \"NO\")"
      ]
    },
    {
      "cell_type": "code",
      "metadata": {
        "id": "23pQWgkqNAUQ"
      },
      "source": [
        "from sklearn.model_selection import train_test_split\n",
        "from sklearn.linear_model import LogisticRegression\n",
        "from sklearn.utils import shuffle"
      ],
      "execution_count": 14,
      "outputs": []
    },
    {
      "cell_type": "code",
      "metadata": {
        "id": "iPW6qmWaOghL"
      },
      "source": [
        "X1 = df[[' Open ', ' High ', ' Low ' ]]\n",
        "X2 = df[[' Open ']]\n",
        "y1 = df[' CTHO_Label ']\n",
        "X1, X2, y1 = shuffle(X1, X2, y1)\n",
        "X_train, X_test, y_train, y_test = train_test_split(X2, y1, test_size = 0.1)\n",
        "#X_train, y_train = shuffle(X_train, y_train)\n",
        "#X_test, y_test = shuffle(X_test, y_test)"
      ],
      "execution_count": 15,
      "outputs": []
    },
    {
      "cell_type": "code",
      "metadata": {
        "colab": {
          "base_uri": "https://localhost:8080/"
        },
        "id": "-toFcVKVPXRR",
        "outputId": "17ba867f-1127-4f17-dcce-e1014437500d"
      },
      "source": [
        "len(y_train)\n",
        "len(y_test)"
      ],
      "execution_count": 16,
      "outputs": [
        {
          "output_type": "execute_result",
          "data": {
            "text/plain": [
              "37"
            ]
          },
          "metadata": {
            "tags": []
          },
          "execution_count": 16
        }
      ]
    },
    {
      "cell_type": "code",
      "metadata": {
        "id": "LiMrDqwBP12U"
      },
      "source": [
        "log_model = LogisticRegression()"
      ],
      "execution_count": 17,
      "outputs": []
    },
    {
      "cell_type": "code",
      "metadata": {
        "colab": {
          "base_uri": "https://localhost:8080/"
        },
        "id": "-Nk8SaI2QRWK",
        "outputId": "475b91cd-a396-4ac8-cda4-d2566e0d6dae"
      },
      "source": [
        "log_model.fit(X_train, y_train)"
      ],
      "execution_count": 18,
      "outputs": [
        {
          "output_type": "execute_result",
          "data": {
            "text/plain": [
              "LogisticRegression(C=1.0, class_weight=None, dual=False, fit_intercept=True,\n",
              "                   intercept_scaling=1, l1_ratio=None, max_iter=100,\n",
              "                   multi_class='auto', n_jobs=None, penalty='l2',\n",
              "                   random_state=None, solver='lbfgs', tol=0.0001, verbose=0,\n",
              "                   warm_start=False)"
            ]
          },
          "metadata": {
            "tags": []
          },
          "execution_count": 18
        }
      ]
    },
    {
      "cell_type": "code",
      "metadata": {
        "colab": {
          "base_uri": "https://localhost:8080/"
        },
        "id": "CPZ191HdQnQl",
        "outputId": "ad86f7fa-81ca-4c25-e6bb-84129f3bb11e"
      },
      "source": [
        "log_model.predict(X_test)"
      ],
      "execution_count": 19,
      "outputs": [
        {
          "output_type": "execute_result",
          "data": {
            "text/plain": [
              "array([1, 1, 1, 1, 1, 1, 1, 1, 1, 1, 1, 1, 1, 1, 1, 1, 1, 1, 1, 1, 1, 1,\n",
              "       1, 1, 1, 1, 1, 1, 1, 1, 1, 1, 1, 1, 1, 1, 1])"
            ]
          },
          "metadata": {
            "tags": []
          },
          "execution_count": 19
        }
      ]
    },
    {
      "cell_type": "code",
      "metadata": {
        "colab": {
          "base_uri": "https://localhost:8080/"
        },
        "id": "BVYGYx75RGUF",
        "outputId": "684ce688-1fd7-40ca-e16d-9c7f6b244d4b"
      },
      "source": [
        "log_model.score(X_test, y_test)"
      ],
      "execution_count": 20,
      "outputs": [
        {
          "output_type": "execute_result",
          "data": {
            "text/plain": [
              "0.5945945945945946"
            ]
          },
          "metadata": {
            "tags": []
          },
          "execution_count": 20
        }
      ]
    },
    {
      "cell_type": "code",
      "metadata": {
        "colab": {
          "base_uri": "https://localhost:8080/",
          "height": 419
        },
        "id": "ZQU9HjpbNvvS",
        "outputId": "06c7276a-7cdd-4653-e88e-d28c6fecfedc"
      },
      "source": [
        "dummies = pd.get_dummies(df['ClosedHigherThanOpen'])\n",
        "merged = pd.concat([df, dummies], axis='columns')\n",
        "merged"
      ],
      "execution_count": 21,
      "outputs": [
        {
          "output_type": "execute_result",
          "data": {
            "text/html": [
              "<div>\n",
              "<style scoped>\n",
              "    .dataframe tbody tr th:only-of-type {\n",
              "        vertical-align: middle;\n",
              "    }\n",
              "\n",
              "    .dataframe tbody tr th {\n",
              "        vertical-align: top;\n",
              "    }\n",
              "\n",
              "    .dataframe thead th {\n",
              "        text-align: right;\n",
              "    }\n",
              "</style>\n",
              "<table border=\"1\" class=\"dataframe\">\n",
              "  <thead>\n",
              "    <tr style=\"text-align: right;\">\n",
              "      <th></th>\n",
              "      <th>Date</th>\n",
              "      <th>Open</th>\n",
              "      <th>High</th>\n",
              "      <th>Low</th>\n",
              "      <th>Close</th>\n",
              "      <th>Adj Close</th>\n",
              "      <th>Volume</th>\n",
              "      <th>ClosedHigherThanOpen</th>\n",
              "      <th>CTHO_Label</th>\n",
              "      <th>No</th>\n",
              "      <th>Yes</th>\n",
              "    </tr>\n",
              "  </thead>\n",
              "  <tbody>\n",
              "    <tr>\n",
              "      <th>0</th>\n",
              "      <td>2/2/2021</td>\n",
              "      <td>35025</td>\n",
              "      <td>35858</td>\n",
              "      <td>33556</td>\n",
              "      <td>35641</td>\n",
              "      <td>35641</td>\n",
              "      <td>62920052736</td>\n",
              "      <td>Yes</td>\n",
              "      <td>1</td>\n",
              "      <td>0</td>\n",
              "      <td>1</td>\n",
              "    </tr>\n",
              "    <tr>\n",
              "      <th>1</th>\n",
              "      <td>2/1/2021</td>\n",
              "      <td>33115</td>\n",
              "      <td>34638</td>\n",
              "      <td>32384</td>\n",
              "      <td>33537</td>\n",
              "      <td>33537</td>\n",
              "      <td>61400400660</td>\n",
              "      <td>Yes</td>\n",
              "      <td>1</td>\n",
              "      <td>0</td>\n",
              "      <td>1</td>\n",
              "    </tr>\n",
              "    <tr>\n",
              "      <th>2</th>\n",
              "      <td>1/31/2021</td>\n",
              "      <td>34271</td>\n",
              "      <td>34288</td>\n",
              "      <td>32270</td>\n",
              "      <td>33114</td>\n",
              "      <td>33114</td>\n",
              "      <td>52754542671</td>\n",
              "      <td>No</td>\n",
              "      <td>0</td>\n",
              "      <td>1</td>\n",
              "      <td>0</td>\n",
              "    </tr>\n",
              "    <tr>\n",
              "      <th>3</th>\n",
              "      <td>1/30/2021</td>\n",
              "      <td>34296</td>\n",
              "      <td>34835</td>\n",
              "      <td>32940</td>\n",
              "      <td>34270</td>\n",
              "      <td>34270</td>\n",
              "      <td>65141828798</td>\n",
              "      <td>No</td>\n",
              "      <td>0</td>\n",
              "      <td>1</td>\n",
              "      <td>0</td>\n",
              "    </tr>\n",
              "    <tr>\n",
              "      <th>4</th>\n",
              "      <td>1/29/2021</td>\n",
              "      <td>34319</td>\n",
              "      <td>38406</td>\n",
              "      <td>32065</td>\n",
              "      <td>34316</td>\n",
              "      <td>34316</td>\n",
              "      <td>117894572511</td>\n",
              "      <td>No</td>\n",
              "      <td>0</td>\n",
              "      <td>1</td>\n",
              "      <td>0</td>\n",
              "    </tr>\n",
              "    <tr>\n",
              "      <th>...</th>\n",
              "      <td>...</td>\n",
              "      <td>...</td>\n",
              "      <td>...</td>\n",
              "      <td>...</td>\n",
              "      <td>...</td>\n",
              "      <td>...</td>\n",
              "      <td>...</td>\n",
              "      <td>...</td>\n",
              "      <td>...</td>\n",
              "      <td>...</td>\n",
              "      <td>...</td>\n",
              "    </tr>\n",
              "    <tr>\n",
              "      <th>358</th>\n",
              "      <td>2/6/2020</td>\n",
              "      <td>9618</td>\n",
              "      <td>9825</td>\n",
              "      <td>9540</td>\n",
              "      <td>9730</td>\n",
              "      <td>9730</td>\n",
              "      <td>37628823716</td>\n",
              "      <td>Yes</td>\n",
              "      <td>1</td>\n",
              "      <td>0</td>\n",
              "      <td>1</td>\n",
              "    </tr>\n",
              "    <tr>\n",
              "      <th>359</th>\n",
              "      <td>2/5/2020</td>\n",
              "      <td>9183</td>\n",
              "      <td>9701</td>\n",
              "      <td>9164</td>\n",
              "      <td>9613</td>\n",
              "      <td>9613</td>\n",
              "      <td>35222060874</td>\n",
              "      <td>Yes</td>\n",
              "      <td>1</td>\n",
              "      <td>0</td>\n",
              "      <td>1</td>\n",
              "    </tr>\n",
              "    <tr>\n",
              "      <th>360</th>\n",
              "      <td>2/4/2020</td>\n",
              "      <td>9293</td>\n",
              "      <td>9331</td>\n",
              "      <td>9113</td>\n",
              "      <td>9181</td>\n",
              "      <td>9181</td>\n",
              "      <td>29893183716</td>\n",
              "      <td>No</td>\n",
              "      <td>0</td>\n",
              "      <td>1</td>\n",
              "      <td>0</td>\n",
              "    </tr>\n",
              "    <tr>\n",
              "      <th>361</th>\n",
              "      <td>2/3/2020</td>\n",
              "      <td>9345</td>\n",
              "      <td>9540</td>\n",
              "      <td>9249</td>\n",
              "      <td>9294</td>\n",
              "      <td>9294</td>\n",
              "      <td>30934096509</td>\n",
              "      <td>No</td>\n",
              "      <td>0</td>\n",
              "      <td>1</td>\n",
              "      <td>0</td>\n",
              "    </tr>\n",
              "    <tr>\n",
              "      <th>362</th>\n",
              "      <td>2/2/2020</td>\n",
              "      <td>9390</td>\n",
              "      <td>9469</td>\n",
              "      <td>9218</td>\n",
              "      <td>9344</td>\n",
              "      <td>9344</td>\n",
              "      <td>30835736946</td>\n",
              "      <td>No</td>\n",
              "      <td>0</td>\n",
              "      <td>1</td>\n",
              "      <td>0</td>\n",
              "    </tr>\n",
              "  </tbody>\n",
              "</table>\n",
              "<p>363 rows × 11 columns</p>\n",
              "</div>"
            ],
            "text/plain": [
              "          Date   Open    High   ...   CTHO_Label   No  Yes\n",
              "0     2/2/2021   35025   35858  ...             1   0    1\n",
              "1     2/1/2021   33115   34638  ...             1   0    1\n",
              "2    1/31/2021   34271   34288  ...             0   1    0\n",
              "3    1/30/2021   34296   34835  ...             0   1    0\n",
              "4    1/29/2021   34319   38406  ...             0   1    0\n",
              "..         ...     ...     ...  ...           ...  ..  ...\n",
              "358   2/6/2020    9618    9825  ...             1   0    1\n",
              "359   2/5/2020    9183    9701  ...             1   0    1\n",
              "360   2/4/2020    9293    9331  ...             0   1    0\n",
              "361   2/3/2020    9345    9540  ...             0   1    0\n",
              "362   2/2/2020    9390    9469  ...             0   1    0\n",
              "\n",
              "[363 rows x 11 columns]"
            ]
          },
          "metadata": {
            "tags": []
          },
          "execution_count": 21
        }
      ]
    },
    {
      "cell_type": "code",
      "metadata": {
        "colab": {
          "base_uri": "https://localhost:8080/",
          "height": 419
        },
        "id": "uqnSu2E-POHa",
        "outputId": "79089c47-9048-4304-9308-baef816b698d"
      },
      "source": [
        "finals = merged.drop(['ClosedHigherThanOpen'], axis = 'columns')\n",
        "finals"
      ],
      "execution_count": 22,
      "outputs": [
        {
          "output_type": "execute_result",
          "data": {
            "text/html": [
              "<div>\n",
              "<style scoped>\n",
              "    .dataframe tbody tr th:only-of-type {\n",
              "        vertical-align: middle;\n",
              "    }\n",
              "\n",
              "    .dataframe tbody tr th {\n",
              "        vertical-align: top;\n",
              "    }\n",
              "\n",
              "    .dataframe thead th {\n",
              "        text-align: right;\n",
              "    }\n",
              "</style>\n",
              "<table border=\"1\" class=\"dataframe\">\n",
              "  <thead>\n",
              "    <tr style=\"text-align: right;\">\n",
              "      <th></th>\n",
              "      <th>Date</th>\n",
              "      <th>Open</th>\n",
              "      <th>High</th>\n",
              "      <th>Low</th>\n",
              "      <th>Close</th>\n",
              "      <th>Adj Close</th>\n",
              "      <th>Volume</th>\n",
              "      <th>CTHO_Label</th>\n",
              "      <th>No</th>\n",
              "      <th>Yes</th>\n",
              "    </tr>\n",
              "  </thead>\n",
              "  <tbody>\n",
              "    <tr>\n",
              "      <th>0</th>\n",
              "      <td>2/2/2021</td>\n",
              "      <td>35025</td>\n",
              "      <td>35858</td>\n",
              "      <td>33556</td>\n",
              "      <td>35641</td>\n",
              "      <td>35641</td>\n",
              "      <td>62920052736</td>\n",
              "      <td>1</td>\n",
              "      <td>0</td>\n",
              "      <td>1</td>\n",
              "    </tr>\n",
              "    <tr>\n",
              "      <th>1</th>\n",
              "      <td>2/1/2021</td>\n",
              "      <td>33115</td>\n",
              "      <td>34638</td>\n",
              "      <td>32384</td>\n",
              "      <td>33537</td>\n",
              "      <td>33537</td>\n",
              "      <td>61400400660</td>\n",
              "      <td>1</td>\n",
              "      <td>0</td>\n",
              "      <td>1</td>\n",
              "    </tr>\n",
              "    <tr>\n",
              "      <th>2</th>\n",
              "      <td>1/31/2021</td>\n",
              "      <td>34271</td>\n",
              "      <td>34288</td>\n",
              "      <td>32270</td>\n",
              "      <td>33114</td>\n",
              "      <td>33114</td>\n",
              "      <td>52754542671</td>\n",
              "      <td>0</td>\n",
              "      <td>1</td>\n",
              "      <td>0</td>\n",
              "    </tr>\n",
              "    <tr>\n",
              "      <th>3</th>\n",
              "      <td>1/30/2021</td>\n",
              "      <td>34296</td>\n",
              "      <td>34835</td>\n",
              "      <td>32940</td>\n",
              "      <td>34270</td>\n",
              "      <td>34270</td>\n",
              "      <td>65141828798</td>\n",
              "      <td>0</td>\n",
              "      <td>1</td>\n",
              "      <td>0</td>\n",
              "    </tr>\n",
              "    <tr>\n",
              "      <th>4</th>\n",
              "      <td>1/29/2021</td>\n",
              "      <td>34319</td>\n",
              "      <td>38406</td>\n",
              "      <td>32065</td>\n",
              "      <td>34316</td>\n",
              "      <td>34316</td>\n",
              "      <td>117894572511</td>\n",
              "      <td>0</td>\n",
              "      <td>1</td>\n",
              "      <td>0</td>\n",
              "    </tr>\n",
              "    <tr>\n",
              "      <th>...</th>\n",
              "      <td>...</td>\n",
              "      <td>...</td>\n",
              "      <td>...</td>\n",
              "      <td>...</td>\n",
              "      <td>...</td>\n",
              "      <td>...</td>\n",
              "      <td>...</td>\n",
              "      <td>...</td>\n",
              "      <td>...</td>\n",
              "      <td>...</td>\n",
              "    </tr>\n",
              "    <tr>\n",
              "      <th>358</th>\n",
              "      <td>2/6/2020</td>\n",
              "      <td>9618</td>\n",
              "      <td>9825</td>\n",
              "      <td>9540</td>\n",
              "      <td>9730</td>\n",
              "      <td>9730</td>\n",
              "      <td>37628823716</td>\n",
              "      <td>1</td>\n",
              "      <td>0</td>\n",
              "      <td>1</td>\n",
              "    </tr>\n",
              "    <tr>\n",
              "      <th>359</th>\n",
              "      <td>2/5/2020</td>\n",
              "      <td>9183</td>\n",
              "      <td>9701</td>\n",
              "      <td>9164</td>\n",
              "      <td>9613</td>\n",
              "      <td>9613</td>\n",
              "      <td>35222060874</td>\n",
              "      <td>1</td>\n",
              "      <td>0</td>\n",
              "      <td>1</td>\n",
              "    </tr>\n",
              "    <tr>\n",
              "      <th>360</th>\n",
              "      <td>2/4/2020</td>\n",
              "      <td>9293</td>\n",
              "      <td>9331</td>\n",
              "      <td>9113</td>\n",
              "      <td>9181</td>\n",
              "      <td>9181</td>\n",
              "      <td>29893183716</td>\n",
              "      <td>0</td>\n",
              "      <td>1</td>\n",
              "      <td>0</td>\n",
              "    </tr>\n",
              "    <tr>\n",
              "      <th>361</th>\n",
              "      <td>2/3/2020</td>\n",
              "      <td>9345</td>\n",
              "      <td>9540</td>\n",
              "      <td>9249</td>\n",
              "      <td>9294</td>\n",
              "      <td>9294</td>\n",
              "      <td>30934096509</td>\n",
              "      <td>0</td>\n",
              "      <td>1</td>\n",
              "      <td>0</td>\n",
              "    </tr>\n",
              "    <tr>\n",
              "      <th>362</th>\n",
              "      <td>2/2/2020</td>\n",
              "      <td>9390</td>\n",
              "      <td>9469</td>\n",
              "      <td>9218</td>\n",
              "      <td>9344</td>\n",
              "      <td>9344</td>\n",
              "      <td>30835736946</td>\n",
              "      <td>0</td>\n",
              "      <td>1</td>\n",
              "      <td>0</td>\n",
              "    </tr>\n",
              "  </tbody>\n",
              "</table>\n",
              "<p>363 rows × 10 columns</p>\n",
              "</div>"
            ],
            "text/plain": [
              "          Date   Open    High    Low   ...       Volume    CTHO_Label   No  Yes\n",
              "0     2/2/2021   35025   35858  33556  ...   62920052736             1   0    1\n",
              "1     2/1/2021   33115   34638  32384  ...   61400400660             1   0    1\n",
              "2    1/31/2021   34271   34288  32270  ...   52754542671             0   1    0\n",
              "3    1/30/2021   34296   34835  32940  ...   65141828798             0   1    0\n",
              "4    1/29/2021   34319   38406  32065  ...  117894572511             0   1    0\n",
              "..         ...     ...     ...    ...  ...           ...           ...  ..  ...\n",
              "358   2/6/2020    9618    9825   9540  ...   37628823716             1   0    1\n",
              "359   2/5/2020    9183    9701   9164  ...   35222060874             1   0    1\n",
              "360   2/4/2020    9293    9331   9113  ...   29893183716             0   1    0\n",
              "361   2/3/2020    9345    9540   9249  ...   30934096509             0   1    0\n",
              "362   2/2/2020    9390    9469   9218  ...   30835736946             0   1    0\n",
              "\n",
              "[363 rows x 10 columns]"
            ]
          },
          "metadata": {
            "tags": []
          },
          "execution_count": 22
        }
      ]
    },
    {
      "cell_type": "code",
      "metadata": {
        "id": "27zyD1CGRKP0"
      },
      "source": [
        "from sklearn.preprocessing import LabelEncoder\n",
        "le = LabelEncoder()"
      ],
      "execution_count": 23,
      "outputs": []
    },
    {
      "cell_type": "code",
      "metadata": {
        "colab": {
          "base_uri": "https://localhost:8080/",
          "height": 419
        },
        "id": "65fLk67HRUez",
        "outputId": "ba35d811-ff02-45d0-c129-9c0018228146"
      },
      "source": [
        "df2 = df\n",
        "df2['ClosedHigherThanOpen'] = le.fit_transform(df['ClosedHigherThanOpen'])\n",
        "df2"
      ],
      "execution_count": null,
      "outputs": [
        {
          "output_type": "execute_result",
          "data": {
            "text/html": [
              "<div>\n",
              "<style scoped>\n",
              "    .dataframe tbody tr th:only-of-type {\n",
              "        vertical-align: middle;\n",
              "    }\n",
              "\n",
              "    .dataframe tbody tr th {\n",
              "        vertical-align: top;\n",
              "    }\n",
              "\n",
              "    .dataframe thead th {\n",
              "        text-align: right;\n",
              "    }\n",
              "</style>\n",
              "<table border=\"1\" class=\"dataframe\">\n",
              "  <thead>\n",
              "    <tr style=\"text-align: right;\">\n",
              "      <th></th>\n",
              "      <th>Date</th>\n",
              "      <th>Open</th>\n",
              "      <th>High</th>\n",
              "      <th>Low</th>\n",
              "      <th>Close</th>\n",
              "      <th>Adj Close</th>\n",
              "      <th>Volume</th>\n",
              "      <th>ClosedHigherThanOpen</th>\n",
              "      <th>CTHO_Label</th>\n",
              "    </tr>\n",
              "  </thead>\n",
              "  <tbody>\n",
              "    <tr>\n",
              "      <th>0</th>\n",
              "      <td>2/2/2021</td>\n",
              "      <td>35025.0</td>\n",
              "      <td>35858.0</td>\n",
              "      <td>33556.0</td>\n",
              "      <td>35641.0</td>\n",
              "      <td>35641.0</td>\n",
              "      <td>6.292005e+10</td>\n",
              "      <td>1</td>\n",
              "      <td>1</td>\n",
              "    </tr>\n",
              "    <tr>\n",
              "      <th>1</th>\n",
              "      <td>2/1/2021</td>\n",
              "      <td>33115.0</td>\n",
              "      <td>34638.0</td>\n",
              "      <td>32384.0</td>\n",
              "      <td>33537.0</td>\n",
              "      <td>33537.0</td>\n",
              "      <td>6.140040e+10</td>\n",
              "      <td>1</td>\n",
              "      <td>1</td>\n",
              "    </tr>\n",
              "    <tr>\n",
              "      <th>2</th>\n",
              "      <td>1/31/2021</td>\n",
              "      <td>34271.0</td>\n",
              "      <td>34288.0</td>\n",
              "      <td>32270.0</td>\n",
              "      <td>33114.0</td>\n",
              "      <td>33114.0</td>\n",
              "      <td>5.275454e+10</td>\n",
              "      <td>0</td>\n",
              "      <td>0</td>\n",
              "    </tr>\n",
              "    <tr>\n",
              "      <th>3</th>\n",
              "      <td>1/30/2021</td>\n",
              "      <td>34296.0</td>\n",
              "      <td>34835.0</td>\n",
              "      <td>32940.0</td>\n",
              "      <td>34270.0</td>\n",
              "      <td>34270.0</td>\n",
              "      <td>6.514183e+10</td>\n",
              "      <td>0</td>\n",
              "      <td>0</td>\n",
              "    </tr>\n",
              "    <tr>\n",
              "      <th>4</th>\n",
              "      <td>1/29/2021</td>\n",
              "      <td>34319.0</td>\n",
              "      <td>38406.0</td>\n",
              "      <td>32065.0</td>\n",
              "      <td>34316.0</td>\n",
              "      <td>34316.0</td>\n",
              "      <td>1.178946e+11</td>\n",
              "      <td>0</td>\n",
              "      <td>0</td>\n",
              "    </tr>\n",
              "    <tr>\n",
              "      <th>...</th>\n",
              "      <td>...</td>\n",
              "      <td>...</td>\n",
              "      <td>...</td>\n",
              "      <td>...</td>\n",
              "      <td>...</td>\n",
              "      <td>...</td>\n",
              "      <td>...</td>\n",
              "      <td>...</td>\n",
              "      <td>...</td>\n",
              "    </tr>\n",
              "    <tr>\n",
              "      <th>358</th>\n",
              "      <td>2/6/2020</td>\n",
              "      <td>9618.0</td>\n",
              "      <td>9825.0</td>\n",
              "      <td>9540.0</td>\n",
              "      <td>9730.0</td>\n",
              "      <td>9730.0</td>\n",
              "      <td>3.762882e+10</td>\n",
              "      <td>1</td>\n",
              "      <td>1</td>\n",
              "    </tr>\n",
              "    <tr>\n",
              "      <th>359</th>\n",
              "      <td>2/5/2020</td>\n",
              "      <td>9183.0</td>\n",
              "      <td>9701.0</td>\n",
              "      <td>9164.0</td>\n",
              "      <td>9613.0</td>\n",
              "      <td>9613.0</td>\n",
              "      <td>3.522206e+10</td>\n",
              "      <td>1</td>\n",
              "      <td>1</td>\n",
              "    </tr>\n",
              "    <tr>\n",
              "      <th>360</th>\n",
              "      <td>2/4/2020</td>\n",
              "      <td>9293.0</td>\n",
              "      <td>9331.0</td>\n",
              "      <td>9113.0</td>\n",
              "      <td>9181.0</td>\n",
              "      <td>9181.0</td>\n",
              "      <td>2.989318e+10</td>\n",
              "      <td>0</td>\n",
              "      <td>0</td>\n",
              "    </tr>\n",
              "    <tr>\n",
              "      <th>361</th>\n",
              "      <td>2/3/2020</td>\n",
              "      <td>9345.0</td>\n",
              "      <td>9540.0</td>\n",
              "      <td>9249.0</td>\n",
              "      <td>9294.0</td>\n",
              "      <td>9294.0</td>\n",
              "      <td>3.093410e+10</td>\n",
              "      <td>0</td>\n",
              "      <td>0</td>\n",
              "    </tr>\n",
              "    <tr>\n",
              "      <th>362</th>\n",
              "      <td>2/2/2020</td>\n",
              "      <td>9390.0</td>\n",
              "      <td>9469.0</td>\n",
              "      <td>9218.0</td>\n",
              "      <td>9344.0</td>\n",
              "      <td>9344.0</td>\n",
              "      <td>3.083574e+10</td>\n",
              "      <td>0</td>\n",
              "      <td>0</td>\n",
              "    </tr>\n",
              "  </tbody>\n",
              "</table>\n",
              "<p>363 rows × 9 columns</p>\n",
              "</div>"
            ],
            "text/plain": [
              "          Date    Open   ...  ClosedHigherThanOpen   CTHO_Label \n",
              "0     2/2/2021  35025.0  ...                     1             1\n",
              "1     2/1/2021  33115.0  ...                     1             1\n",
              "2    1/31/2021  34271.0  ...                     0             0\n",
              "3    1/30/2021  34296.0  ...                     0             0\n",
              "4    1/29/2021  34319.0  ...                     0             0\n",
              "..         ...      ...  ...                   ...           ...\n",
              "358   2/6/2020   9618.0  ...                     1             1\n",
              "359   2/5/2020   9183.0  ...                     1             1\n",
              "360   2/4/2020   9293.0  ...                     0             0\n",
              "361   2/3/2020   9345.0  ...                     0             0\n",
              "362   2/2/2020   9390.0  ...                     0             0\n",
              "\n",
              "[363 rows x 9 columns]"
            ]
          },
          "metadata": {
            "tags": []
          },
          "execution_count": 35
        }
      ]
    },
    {
      "cell_type": "markdown",
      "metadata": {
        "id": "-0hKImhDjUyO"
      },
      "source": [
        "# **Build a Neural network**"
      ]
    },
    {
      "cell_type": "code",
      "metadata": {
        "id": "7QPrhNKFjUDH"
      },
      "source": [
        "from sklearn.preprocessing import MinMaxScaler\n",
        "import tensorflow as tf\n",
        "from tensorflow import keras\n",
        "from tensorflow.keras.models import Sequential\n",
        "from tensorflow.keras.layers import Activation, Dense\n",
        "from tensorflow.keras.optimizers import Adam\n",
        "from tensorflow.keras.metrics import categorical_crossentropy"
      ],
      "execution_count": 24,
      "outputs": []
    },
    {
      "cell_type": "code",
      "metadata": {
        "id": "Iy1n8bgdkDC2"
      },
      "source": [
        "X1 = df[[' Open ', ' High ', ' Low ' ]]\n",
        "y1 = df[' CTHO_Label ']\n",
        "X1, y1 = shuffle(X1, y1)\n",
        "X_train, X_test, y_train, y_test = train_test_split(X1, y1, test_size = 0.1)"
      ],
      "execution_count": 25,
      "outputs": []
    },
    {
      "cell_type": "code",
      "metadata": {
        "id": "VBJm3i5ulGiE"
      },
      "source": [
        "scaler = MinMaxScaler(feature_range=(0, 1))\n",
        "scaled_X_train = scaler.fit_transform(X_train)\n",
        "scaled_X_test = scaler.fit_transform(X_test)"
      ],
      "execution_count": 26,
      "outputs": []
    },
    {
      "cell_type": "code",
      "metadata": {
        "colab": {
          "base_uri": "https://localhost:8080/"
        },
        "id": "H6ylUoYQmeoT",
        "outputId": "d00a376a-b7ee-40f8-fa43-6c2ac87986fa"
      },
      "source": [
        "len(scaled_X_train)"
      ],
      "execution_count": 27,
      "outputs": [
        {
          "output_type": "execute_result",
          "data": {
            "text/plain": [
              "326"
            ]
          },
          "metadata": {
            "tags": []
          },
          "execution_count": 27
        }
      ]
    },
    {
      "cell_type": "code",
      "metadata": {
        "id": "cgYMhMxKoA4-"
      },
      "source": [
        "model = Sequential([\n",
        "    Dense(units=16, input_shape=(3,), activation='relu'),\n",
        "    Dense(units=32, activation='relu'),\n",
        "    Dense(units=2, activation='softmax')\n",
        "])"
      ],
      "execution_count": 28,
      "outputs": []
    },
    {
      "cell_type": "code",
      "metadata": {
        "colab": {
          "base_uri": "https://localhost:8080/"
        },
        "id": "tNSxO50QoYRy",
        "outputId": "07c47923-8441-4518-f76a-dd1d742489ca"
      },
      "source": [
        "model.summary()"
      ],
      "execution_count": null,
      "outputs": [
        {
          "output_type": "stream",
          "text": [
            "Model: \"sequential\"\n",
            "_________________________________________________________________\n",
            "Layer (type)                 Output Shape              Param #   \n",
            "=================================================================\n",
            "dense (Dense)                (None, 16)                64        \n",
            "_________________________________________________________________\n",
            "dense_1 (Dense)              (None, 32)                544       \n",
            "_________________________________________________________________\n",
            "dense_2 (Dense)              (None, 2)                 66        \n",
            "=================================================================\n",
            "Total params: 674\n",
            "Trainable params: 674\n",
            "Non-trainable params: 0\n",
            "_________________________________________________________________\n"
          ],
          "name": "stdout"
        }
      ]
    },
    {
      "cell_type": "code",
      "metadata": {
        "id": "4rWFZmE9out7"
      },
      "source": [
        "model.compile(optimizer=Adam(learning_rate=0.001), loss='sparse_categorical_crossentropy', metrics=['accuracy'])"
      ],
      "execution_count": 29,
      "outputs": []
    },
    {
      "cell_type": "code",
      "metadata": {
        "colab": {
          "base_uri": "https://localhost:8080/"
        },
        "id": "yx7QtRuaoz2z",
        "outputId": "4c946134-cdea-4bca-fc3e-dd0b2b282e75"
      },
      "source": [
        "model.fit(x=scaled_X_train, y=y_train, validation_split=0.1, epochs=30, verbose=2)"
      ],
      "execution_count": 30,
      "outputs": [
        {
          "output_type": "stream",
          "text": [
            "Epoch 1/30\n",
            "10/10 - 1s - loss: 0.6951 - accuracy: 0.4846 - val_loss: 0.6958 - val_accuracy: 0.4848\n",
            "Epoch 2/30\n",
            "10/10 - 0s - loss: 0.6911 - accuracy: 0.5597 - val_loss: 0.6992 - val_accuracy: 0.4848\n",
            "Epoch 3/30\n",
            "10/10 - 0s - loss: 0.6891 - accuracy: 0.5597 - val_loss: 0.7030 - val_accuracy: 0.4848\n",
            "Epoch 4/30\n",
            "10/10 - 0s - loss: 0.6878 - accuracy: 0.5597 - val_loss: 0.7060 - val_accuracy: 0.4848\n",
            "Epoch 5/30\n",
            "10/10 - 0s - loss: 0.6878 - accuracy: 0.5597 - val_loss: 0.7061 - val_accuracy: 0.4848\n",
            "Epoch 6/30\n",
            "10/10 - 0s - loss: 0.6870 - accuracy: 0.5597 - val_loss: 0.7075 - val_accuracy: 0.4848\n",
            "Epoch 7/30\n",
            "10/10 - 0s - loss: 0.6871 - accuracy: 0.5597 - val_loss: 0.7046 - val_accuracy: 0.4848\n",
            "Epoch 8/30\n",
            "10/10 - 0s - loss: 0.6868 - accuracy: 0.5597 - val_loss: 0.7037 - val_accuracy: 0.4848\n",
            "Epoch 9/30\n",
            "10/10 - 0s - loss: 0.6867 - accuracy: 0.5597 - val_loss: 0.7050 - val_accuracy: 0.4848\n",
            "Epoch 10/30\n",
            "10/10 - 0s - loss: 0.6864 - accuracy: 0.5597 - val_loss: 0.7048 - val_accuracy: 0.4848\n",
            "Epoch 11/30\n",
            "10/10 - 0s - loss: 0.6861 - accuracy: 0.5597 - val_loss: 0.7050 - val_accuracy: 0.4848\n",
            "Epoch 12/30\n",
            "10/10 - 0s - loss: 0.6862 - accuracy: 0.5597 - val_loss: 0.7019 - val_accuracy: 0.4848\n",
            "Epoch 13/30\n",
            "10/10 - 0s - loss: 0.6860 - accuracy: 0.5597 - val_loss: 0.7003 - val_accuracy: 0.4848\n",
            "Epoch 14/30\n",
            "10/10 - 0s - loss: 0.6863 - accuracy: 0.5597 - val_loss: 0.6977 - val_accuracy: 0.4848\n",
            "Epoch 15/30\n",
            "10/10 - 0s - loss: 0.6864 - accuracy: 0.5597 - val_loss: 0.6984 - val_accuracy: 0.4848\n",
            "Epoch 16/30\n",
            "10/10 - 0s - loss: 0.6862 - accuracy: 0.5597 - val_loss: 0.6979 - val_accuracy: 0.4848\n",
            "Epoch 17/30\n",
            "10/10 - 0s - loss: 0.6861 - accuracy: 0.5597 - val_loss: 0.6977 - val_accuracy: 0.4848\n",
            "Epoch 18/30\n",
            "10/10 - 0s - loss: 0.6862 - accuracy: 0.5597 - val_loss: 0.6983 - val_accuracy: 0.4848\n",
            "Epoch 19/30\n",
            "10/10 - 0s - loss: 0.6857 - accuracy: 0.5597 - val_loss: 0.6999 - val_accuracy: 0.4848\n",
            "Epoch 20/30\n",
            "10/10 - 0s - loss: 0.6852 - accuracy: 0.5597 - val_loss: 0.7030 - val_accuracy: 0.4848\n",
            "Epoch 21/30\n",
            "10/10 - 0s - loss: 0.6850 - accuracy: 0.5597 - val_loss: 0.7042 - val_accuracy: 0.4848\n",
            "Epoch 22/30\n",
            "10/10 - 0s - loss: 0.6849 - accuracy: 0.5597 - val_loss: 0.7048 - val_accuracy: 0.4848\n",
            "Epoch 23/30\n",
            "10/10 - 0s - loss: 0.6849 - accuracy: 0.5597 - val_loss: 0.7072 - val_accuracy: 0.4848\n",
            "Epoch 24/30\n",
            "10/10 - 0s - loss: 0.6848 - accuracy: 0.5597 - val_loss: 0.7047 - val_accuracy: 0.4848\n",
            "Epoch 25/30\n",
            "10/10 - 0s - loss: 0.6847 - accuracy: 0.5597 - val_loss: 0.7045 - val_accuracy: 0.4848\n",
            "Epoch 26/30\n",
            "10/10 - 0s - loss: 0.6847 - accuracy: 0.5597 - val_loss: 0.7068 - val_accuracy: 0.4848\n",
            "Epoch 27/30\n",
            "10/10 - 0s - loss: 0.6843 - accuracy: 0.5597 - val_loss: 0.7060 - val_accuracy: 0.4848\n",
            "Epoch 28/30\n",
            "10/10 - 0s - loss: 0.6846 - accuracy: 0.5597 - val_loss: 0.7047 - val_accuracy: 0.4848\n",
            "Epoch 29/30\n",
            "10/10 - 0s - loss: 0.6840 - accuracy: 0.5597 - val_loss: 0.7042 - val_accuracy: 0.4848\n",
            "Epoch 30/30\n",
            "10/10 - 0s - loss: 0.6839 - accuracy: 0.5597 - val_loss: 0.7047 - val_accuracy: 0.4848\n"
          ],
          "name": "stdout"
        },
        {
          "output_type": "execute_result",
          "data": {
            "text/plain": [
              "<tensorflow.python.keras.callbacks.History at 0x7fe423ae9690>"
            ]
          },
          "metadata": {
            "tags": []
          },
          "execution_count": 30
        }
      ]
    },
    {
      "cell_type": "code",
      "metadata": {
        "id": "cbzyfF8jwDe0"
      },
      "source": [
        "predictions = model.predict(x=scaled_X_test, batch_size=10, verbose=0) "
      ],
      "execution_count": 31,
      "outputs": []
    },
    {
      "cell_type": "code",
      "metadata": {
        "colab": {
          "base_uri": "https://localhost:8080/"
        },
        "id": "NZjSsWRXxlxQ",
        "outputId": "8e46126e-f96c-43d9-ea33-cabdeb300878"
      },
      "source": [
        "len(scaled_X_test)"
      ],
      "execution_count": 32,
      "outputs": [
        {
          "output_type": "execute_result",
          "data": {
            "text/plain": [
              "37"
            ]
          },
          "metadata": {
            "tags": []
          },
          "execution_count": 32
        }
      ]
    },
    {
      "cell_type": "code",
      "metadata": {
        "colab": {
          "base_uri": "https://localhost:8080/"
        },
        "id": "dRAsAtgxxDAz",
        "outputId": "e08df5be-5088-45a9-fa5d-d213d2c54da3"
      },
      "source": [
        "for i in predictions:\n",
        "  print(i)"
      ],
      "execution_count": 33,
      "outputs": [
        {
          "output_type": "stream",
          "text": [
            "[0.43593282 0.5640672 ]\n",
            "[0.45011866 0.5498814 ]\n",
            "[0.44967556 0.5503244 ]\n",
            "[0.4344739  0.56552607]\n",
            "[0.43733567 0.56266433]\n",
            "[0.44244102 0.557559  ]\n",
            "[0.44386593 0.55613405]\n",
            "[0.4494698  0.55053025]\n",
            "[0.44631773 0.5536822 ]\n",
            "[0.44714263 0.55285734]\n",
            "[0.44937643 0.5506236 ]\n",
            "[0.44982255 0.55017745]\n",
            "[0.44794437 0.55205566]\n",
            "[0.44880098 0.5511991 ]\n",
            "[0.43968076 0.56031924]\n",
            "[0.4434792 0.5565209]\n",
            "[0.44541648 0.5545836 ]\n",
            "[0.45050448 0.54949546]\n",
            "[0.4531628  0.54683715]\n",
            "[0.44818282 0.5518172 ]\n",
            "[0.44952327 0.55047673]\n",
            "[0.43401212 0.5659879 ]\n",
            "[0.44401124 0.5559888 ]\n",
            "[0.44809586 0.55190414]\n",
            "[0.4377689  0.56223106]\n",
            "[0.4471219  0.55287814]\n",
            "[0.44488052 0.55511945]\n",
            "[0.44220498 0.55779505]\n",
            "[0.45054957 0.5494504 ]\n",
            "[0.44194338 0.55805665]\n",
            "[0.4485149 0.5514851]\n",
            "[0.45055044 0.54944956]\n",
            "[0.4445131  0.55548686]\n",
            "[0.4446231 0.5553769]\n",
            "[0.44767904 0.5523209 ]\n",
            "[0.45146036 0.54853964]\n",
            "[0.44554812 0.5544518 ]\n"
          ],
          "name": "stdout"
        }
      ]
    }
  ]
}